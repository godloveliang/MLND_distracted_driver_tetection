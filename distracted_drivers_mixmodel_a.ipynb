{
 "cells": [
  {
   "cell_type": "markdown",
   "metadata": {},
   "source": [
    "# 机器学习进阶毕业项目—驾驶员状态检测"
   ]
  },
  {
   "cell_type": "markdown",
   "metadata": {},
   "source": [
    "### 一、数据预处理"
   ]
  },
  {
   "cell_type": "markdown",
   "metadata": {},
   "source": [
    "#### 1、根据司机ID划分训练集和验证集，将P064, P066两位司机，共1854个数据作为验证集，其余26位司机，共20570个数据作为训练集。将验证集从原始文件里移动到验证集相应的分类文件里。"
   ]
  },
  {
   "cell_type": "code",
   "execution_count": 1,
   "metadata": {},
   "outputs": [],
   "source": [
    "import os\n",
    "import pandas as pd\n",
    "import numpy as np\n",
    "import shutil\n",
    "\n",
    "valid_subjects = ['p021','p051','p035']\n",
    "\n",
    "if not os.path.exists(\"input/valid\"):\n",
    "    os.mkdir(\"input/valid\")\n",
    "    for i in range(10):\n",
    "        os.mkdir(\"input/valid/c%d\"%i)\n",
    "\n",
    "df = pd.read_csv(os.path.join('input', \"driver_imgs_list.csv\"))\n",
    "\n",
    "for valid_subject in valid_subjects:\n",
    "    df_valid = df[(df[\"subject\"]==valid_subject)]\n",
    "    for index, row in df_valid.iterrows():\n",
    "        subpath = row[\"classname\"] + \"/\" + row[\"img\"]\n",
    "        if os.path.exists(os.path.join('input',\"train\",subpath)):\n",
    "            shutil.move(os.path.join('input',\"train\",subpath), os.path.join('input',\"valid\",subpath),)\n",
    "        else:\n",
    "            print(\"cannot move {} : {}\".format(row[\"subject\"],subpath))"
   ]
  },
  {
   "cell_type": "markdown",
   "metadata": {},
   "source": [
    "### 二、导出特征向量"
   ]
  },
  {
   "cell_type": "code",
   "execution_count": 47,
   "metadata": {},
   "outputs": [
    {
     "name": "stdout",
     "output_type": "stream",
     "text": [
      "Found 19419 images belonging to 10 classes.\n",
      "Found 3005 images belonging to 10 classes.\n",
      "Found 79726 images belonging to 1 classes.\n",
      "1214/1214 [==============================] - 482s 397ms/step\n",
      "188/188 [==============================] - 75s 397ms/step\n",
      "4983/4983 [==============================] - 1965s 394ms/step\n"
     ]
    }
   ],
   "source": [
    "from keras.models import *\n",
    "from keras.layers import *\n",
    "from keras.applications import *\n",
    "from keras.preprocessing.image import *\n",
    "from keras.models import load_model\n",
    "\n",
    "import h5py\n",
    "import math\n",
    "\n",
    "def write_gap(MODEL, image_size, lambda_func=None,weights_name=None):\n",
    "    #width = image_size[0]\n",
    "    #height = image_size[1]\n",
    "    input_tensor = Input((*image_size, 3))\n",
    "    x = input_tensor\n",
    "    if lambda_func:\n",
    "        x = Lambda(lambda_func)(x)\n",
    "\n",
    "    base_model = MODEL(input_tensor=x, weights=None, include_top=False)\n",
    "    model = Model(base_model.input, GlobalAveragePooling2D()(base_model.output))\n",
    "    \n",
    "    model.load_weights(\"weights/\"+weights_name, by_name=True)\n",
    "    \n",
    "    batch_size=16\n",
    "    gen = ImageDataGenerator()\n",
    "    train_generator = gen.flow_from_directory(os.path.join('input', 'train'), image_size, shuffle=False, batch_size=batch_size,class_mode='categorical')\n",
    "    valid_generator = gen.flow_from_directory(os.path.join('input', 'valid'), image_size, shuffle=False, batch_size=batch_size,class_mode='categorical')\n",
    "    test_generator = gen.flow_from_directory(os.path.join('input', 'test'), image_size, shuffle=False, batch_size=batch_size, class_mode=None)\n",
    "\n",
    "    train = model.predict_generator(train_generator,verbose=1)\n",
    "    valid = model.predict_generator(valid_generator, verbose=1)\n",
    "    test = model.predict_generator(test_generator, verbose=1)\n",
    "    \n",
    "    with h5py.File(\"gap_76_a_%s.h5\"%MODEL.__name__) as h:\n",
    "        h.create_dataset(\"train\", data=train)\n",
    "        h.create_dataset(\"valid\", data=valid)\n",
    "        h.create_dataset(\"test\", data=test)\n",
    "        h.create_dataset(\"train_label\", data=train_generator.classes)\n",
    "        h.create_dataset(\"valid_label\", data=valid_generator.classes)\n",
    "\n",
    "#write_gap(ResNet50, (224, 224), resnet50.preprocess_input, weights_name='ResNet50-finetune_120_a.h5')\n",
    "#write_gap(ResNet50, (224, 224), resnet50.preprocess_input, weights_name='ResNet50-finetune_78.h5')\n",
    "#write_gap(InceptionV3, (299,299), inception_v3.preprocess_input, weights_name='InceptionV3-finetune_168_c.h5')\n",
    "#write_gap(Xception, (299,299), xception.preprocess_input, weights_name='Xception-finetune_81.h5')\n",
    "write_gap(Xception, (299,299), xception.preprocess_input, weights_name='Xception-finetune_76.h5')\n",
    "#write_gap(InceptionResNetV2, (299,299), inception_resnet_v2.preprocess_input, weights_name='InceptionResNetV2-finetune_301_a.h5')\n",
    "#write_gap(VGG16, (224, 224))"
   ]
  },
  {
   "cell_type": "markdown",
   "metadata": {},
   "source": [
    "### 三、载入特征向量"
   ]
  },
  {
   "cell_type": "code",
   "execution_count": 76,
   "metadata": {},
   "outputs": [],
   "source": [
    "import h5py\n",
    "import numpy as np\n",
    "from sklearn.utils import shuffle\n",
    "from keras.utils.np_utils import to_categorical\n",
    "np.random.seed(2018)\n",
    "\n",
    "X_train = []\n",
    "X_valid = []\n",
    "X_test = []\n",
    "\n",
    "#gap_a_Xception.h5\n",
    "#gap_a_InceptionV3.h5\n",
    "#gap_a_InceptionResNetV2.h5\n",
    "#gap_a_ResNet50.h5\n",
    "#gap_120_a_ResNet50.h5\n",
    "\n",
    "for filename in [\"gap_a_ResNet50.h5\",\"gap_a_InceptionV3.h5\",\"gap_a_Xception.h5\"]:\n",
    "    with h5py.File(filename, 'r') as h:\n",
    "        X_train.append(np.array(h['train']))\n",
    "        X_valid.append(np.array(h['valid']))\n",
    "        X_test.append(np.array(h['test']))\n",
    "        y_train = np.array(h['train_label'])\n",
    "        y_valid = np.array(h['valid_label'])\n",
    "\n",
    "X_train = np.concatenate(X_train, axis=1)\n",
    "X_valid = np.concatenate(X_valid, axis=1)\n",
    "X_test = np.concatenate(X_test, axis=1)\n",
    "\n",
    "X_train, y_train = shuffle(X_train, y_train)\n",
    "X_valid, y_valid = shuffle(X_valid, y_valid)\n",
    "\n",
    "y_train = to_categorical(y_train, 10)\n",
    "y_valid = to_categorical(y_valid, 10)"
   ]
  },
  {
   "cell_type": "code",
   "execution_count": 77,
   "metadata": {},
   "outputs": [
    {
     "name": "stdout",
     "output_type": "stream",
     "text": [
      "(19419, 10)\n",
      "(3005, 10)\n",
      "(79726, 6144)\n"
     ]
    }
   ],
   "source": [
    "print(y_train.shape)\n",
    "print(y_valid.shape)\n",
    "print(X_test.shape)"
   ]
  },
  {
   "cell_type": "markdown",
   "metadata": {},
   "source": [
    "### 四、构建模型"
   ]
  },
  {
   "cell_type": "code",
   "execution_count": 81,
   "metadata": {},
   "outputs": [],
   "source": [
    "from keras.models import *\n",
    "from keras.layers import *\n",
    "from keras.optimizers import *\n",
    "#from keras.optimizers import SGD\n",
    "\n",
    "np.random.seed(2018)\n",
    "\n",
    "input_tensor = Input(X_train.shape[1:])\n",
    "x = Dropout(0.5)(input_tensor)\n",
    "#x = Dense(2048, activation='relu')(x)\n",
    "#x = Dropout(0.5)(x)\n",
    "#x = Dense(1024, activation='relu')(x)\n",
    "#x = Dropout(0.5)(x)\n",
    "x = Dense(10, activation='softmax')(x)\n",
    "model = Model(input_tensor, x)\n",
    "\n",
    "#sgd = SGD(lr=1e-3, decay=1e-6, momentum=0.9)\n",
    "\n",
    "#model.compile(optimizer='Adam', loss='sparse_categorical_crossentropy',metrics=['accuracy'])\n",
    "\n",
    "model.compile(optimizer=Adam(lr=1e-5), loss='categorical_crossentropy',metrics=['accuracy'])"
   ]
  },
  {
   "cell_type": "markdown",
   "metadata": {},
   "source": [
    "### 五、训练模型"
   ]
  },
  {
   "cell_type": "markdown",
   "metadata": {},
   "source": [
    "#### 1、训练结果可视化，查看模型训练过程中的acc+loss+val_acc+val_loss"
   ]
  },
  {
   "cell_type": "code",
   "execution_count": 51,
   "metadata": {},
   "outputs": [],
   "source": [
    "import matplotlib.pyplot as plt\n",
    "%matplotlib inline\n",
    "def training_vis(hist):\n",
    "    loss = hist.history['loss']\n",
    "    val_loss = hist.history['val_loss']\n",
    "    acc = hist.history['acc']\n",
    "    val_acc = hist.history['val_acc']\n",
    "\n",
    "    # make a figure\n",
    "    fig = plt.figure(figsize=(8,4))\n",
    "    # subplot loss\n",
    "    ax1 = fig.add_subplot(121)\n",
    "    ax1.plot(loss,label='train_loss')\n",
    "    ax1.plot(val_loss,label='val_loss')\n",
    "    ax1.set_xlabel('Epochs')\n",
    "    ax1.set_ylabel('Loss')\n",
    "    ax1.set_title('Loss on Training and Validation Data')\n",
    "    ax1.legend()\n",
    "    # subplot acc\n",
    "    ax2 = fig.add_subplot(122)\n",
    "    ax2.plot(acc,label='train_acc')\n",
    "    ax2.plot(val_acc,label='val_acc')\n",
    "    ax2.set_xlabel('Epochs')\n",
    "    ax2.set_ylabel('Accuracy')\n",
    "    ax2.set_title('Accuracy  on Training and Validation Data')\n",
    "    ax2.legend()\n",
    "    plt.tight_layout()"
   ]
  },
  {
   "cell_type": "markdown",
   "metadata": {},
   "source": [
    "#### 2、训练模型，为了避免过拟合采用Earlystopping。"
   ]
  },
  {
   "cell_type": "code",
   "execution_count": 82,
   "metadata": {},
   "outputs": [
    {
     "name": "stderr",
     "output_type": "stream",
     "text": [
      "/home/ubuntu/anaconda3/envs/tensorflow_p36/lib/python3.6/site-packages/ipykernel/__main__.py:4: UserWarning: The `nb_epoch` argument in `fit` has been renamed `epochs`.\n"
     ]
    },
    {
     "name": "stdout",
     "output_type": "stream",
     "text": [
      "Train on 19419 samples, validate on 3005 samples\n",
      "Epoch 1/60\n",
      "19419/19419 [==============================] - 2s 95us/step - loss: 2.2705 - acc: 0.2131 - val_loss: 1.6579 - val_acc: 0.5903\n",
      "Epoch 2/60\n",
      "19419/19419 [==============================] - 1s 48us/step - loss: 1.4766 - acc: 0.5497 - val_loss: 1.0721 - val_acc: 0.9434\n",
      "Epoch 3/60\n",
      "19419/19419 [==============================] - 1s 48us/step - loss: 0.9973 - acc: 0.8026 - val_loss: 0.7350 - val_acc: 0.9704\n",
      "Epoch 4/60\n",
      "19419/19419 [==============================] - 1s 48us/step - loss: 0.7063 - acc: 0.9096 - val_loss: 0.5361 - val_acc: 0.9757\n",
      "Epoch 5/60\n",
      "19419/19419 [==============================] - 1s 48us/step - loss: 0.5341 - acc: 0.9496 - val_loss: 0.4111 - val_acc: 0.9780\n",
      "Epoch 6/60\n",
      "19419/19419 [==============================] - 1s 49us/step - loss: 0.4188 - acc: 0.9648 - val_loss: 0.3292 - val_acc: 0.9780\n",
      "Epoch 7/60\n",
      "19419/19419 [==============================] - 1s 52us/step - loss: 0.3398 - acc: 0.9712 - val_loss: 0.2732 - val_acc: 0.9784\n",
      "Epoch 8/60\n",
      "19419/19419 [==============================] - 1s 48us/step - loss: 0.2839 - acc: 0.9767 - val_loss: 0.2331 - val_acc: 0.9784\n",
      "Epoch 9/60\n",
      "19419/19419 [==============================] - 1s 49us/step - loss: 0.2423 - acc: 0.9791 - val_loss: 0.2035 - val_acc: 0.9780\n",
      "Epoch 10/60\n",
      "19419/19419 [==============================] - 1s 48us/step - loss: 0.2117 - acc: 0.9815 - val_loss: 0.1808 - val_acc: 0.9780\n",
      "Epoch 11/60\n",
      "19419/19419 [==============================] - 1s 48us/step - loss: 0.1855 - acc: 0.9824 - val_loss: 0.1633 - val_acc: 0.9780\n",
      "Epoch 12/60\n",
      "19419/19419 [==============================] - 1s 49us/step - loss: 0.1660 - acc: 0.9839 - val_loss: 0.1495 - val_acc: 0.9784\n",
      "Epoch 13/60\n",
      "19419/19419 [==============================] - 1s 48us/step - loss: 0.1510 - acc: 0.9848 - val_loss: 0.1381 - val_acc: 0.9784\n",
      "Epoch 14/60\n",
      "19419/19419 [==============================] - 1s 48us/step - loss: 0.1367 - acc: 0.9849 - val_loss: 0.1288 - val_acc: 0.9784\n",
      "Epoch 15/60\n",
      "19419/19419 [==============================] - 1s 49us/step - loss: 0.1265 - acc: 0.9858 - val_loss: 0.1211 - val_acc: 0.9784\n",
      "Epoch 16/60\n",
      "19419/19419 [==============================] - 1s 48us/step - loss: 0.1160 - acc: 0.9870 - val_loss: 0.1143 - val_acc: 0.9784\n",
      "Epoch 17/60\n",
      "19419/19419 [==============================] - 1s 49us/step - loss: 0.1073 - acc: 0.9866 - val_loss: 0.1091 - val_acc: 0.9784\n",
      "Epoch 18/60\n",
      "19419/19419 [==============================] - 1s 49us/step - loss: 0.1005 - acc: 0.9875 - val_loss: 0.1047 - val_acc: 0.9784\n",
      "Epoch 19/60\n",
      "19419/19419 [==============================] - 1s 48us/step - loss: 0.0939 - acc: 0.9871 - val_loss: 0.1010 - val_acc: 0.9784\n",
      "Epoch 20/60\n",
      "19419/19419 [==============================] - 1s 48us/step - loss: 0.0898 - acc: 0.9870 - val_loss: 0.0975 - val_acc: 0.9784\n",
      "Epoch 21/60\n",
      "19419/19419 [==============================] - 1s 47us/step - loss: 0.0840 - acc: 0.9882 - val_loss: 0.0943 - val_acc: 0.9784\n",
      "Epoch 22/60\n",
      "19419/19419 [==============================] - 1s 48us/step - loss: 0.0796 - acc: 0.9874 - val_loss: 0.0915 - val_acc: 0.9784\n",
      "Epoch 23/60\n",
      "19419/19419 [==============================] - 1s 47us/step - loss: 0.0749 - acc: 0.9892 - val_loss: 0.0890 - val_acc: 0.9784\n",
      "Epoch 24/60\n",
      "19419/19419 [==============================] - 1s 47us/step - loss: 0.0709 - acc: 0.9894 - val_loss: 0.0875 - val_acc: 0.9784\n",
      "Epoch 25/60\n",
      "19419/19419 [==============================] - 1s 47us/step - loss: 0.0682 - acc: 0.9892 - val_loss: 0.0852 - val_acc: 0.9784\n",
      "Epoch 26/60\n",
      "19419/19419 [==============================] - 1s 48us/step - loss: 0.0646 - acc: 0.9892 - val_loss: 0.0838 - val_acc: 0.9787\n",
      "Epoch 27/60\n",
      "19419/19419 [==============================] - 1s 48us/step - loss: 0.0625 - acc: 0.9894 - val_loss: 0.0828 - val_acc: 0.9787\n",
      "Epoch 28/60\n",
      "19419/19419 [==============================] - 1s 48us/step - loss: 0.0610 - acc: 0.9884 - val_loss: 0.0816 - val_acc: 0.9787\n",
      "Epoch 29/60\n",
      "19419/19419 [==============================] - 1s 47us/step - loss: 0.0584 - acc: 0.9894 - val_loss: 0.0806 - val_acc: 0.9787\n",
      "Epoch 30/60\n",
      "19419/19419 [==============================] - 1s 46us/step - loss: 0.0553 - acc: 0.9906 - val_loss: 0.0794 - val_acc: 0.9787\n",
      "Epoch 31/60\n",
      "19419/19419 [==============================] - 1s 46us/step - loss: 0.0545 - acc: 0.9898 - val_loss: 0.0789 - val_acc: 0.9787\n",
      "Epoch 32/60\n",
      "19419/19419 [==============================] - 1s 48us/step - loss: 0.0530 - acc: 0.9904 - val_loss: 0.0783 - val_acc: 0.9787\n",
      "Epoch 33/60\n",
      "19419/19419 [==============================] - 1s 48us/step - loss: 0.0505 - acc: 0.9910 - val_loss: 0.0776 - val_acc: 0.9787\n",
      "Epoch 34/60\n",
      "19419/19419 [==============================] - 1s 49us/step - loss: 0.0485 - acc: 0.9904 - val_loss: 0.0768 - val_acc: 0.9787\n",
      "Epoch 35/60\n",
      "19419/19419 [==============================] - 1s 48us/step - loss: 0.0476 - acc: 0.9907 - val_loss: 0.0768 - val_acc: 0.9787\n",
      "Epoch 36/60\n",
      "19419/19419 [==============================] - 1s 47us/step - loss: 0.0462 - acc: 0.9911 - val_loss: 0.0763 - val_acc: 0.9790\n",
      "Epoch 37/60\n",
      "19419/19419 [==============================] - 1s 46us/step - loss: 0.0448 - acc: 0.9906 - val_loss: 0.0755 - val_acc: 0.9790\n",
      "Epoch 38/60\n",
      "19419/19419 [==============================] - 1s 48us/step - loss: 0.0442 - acc: 0.9907 - val_loss: 0.0750 - val_acc: 0.9790\n",
      "Epoch 39/60\n",
      "19419/19419 [==============================] - 1s 47us/step - loss: 0.0426 - acc: 0.9912 - val_loss: 0.0755 - val_acc: 0.9790\n",
      "Epoch 40/60\n",
      "19419/19419 [==============================] - 1s 47us/step - loss: 0.0418 - acc: 0.9914 - val_loss: 0.0751 - val_acc: 0.9787\n",
      "Epoch 41/60\n",
      "19419/19419 [==============================] - 1s 46us/step - loss: 0.0403 - acc: 0.9911 - val_loss: 0.0750 - val_acc: 0.9787\n",
      "Epoch 42/60\n",
      "19419/19419 [==============================] - 1s 47us/step - loss: 0.0408 - acc: 0.9908 - val_loss: 0.0748 - val_acc: 0.9787\n",
      "Epoch 43/60\n",
      "19419/19419 [==============================] - 1s 48us/step - loss: 0.0394 - acc: 0.9914 - val_loss: 0.0749 - val_acc: 0.9787\n",
      "Epoch 44/60\n",
      "19419/19419 [==============================] - 1s 49us/step - loss: 0.0384 - acc: 0.9913 - val_loss: 0.0752 - val_acc: 0.9787\n",
      "Epoch 45/60\n",
      "19419/19419 [==============================] - 1s 48us/step - loss: 0.0371 - acc: 0.9918 - val_loss: 0.0755 - val_acc: 0.9787\n",
      "Epoch 46/60\n",
      "19419/19419 [==============================] - 1s 47us/step - loss: 0.0367 - acc: 0.9915 - val_loss: 0.0753 - val_acc: 0.9787\n",
      "Epoch 47/60\n",
      "19419/19419 [==============================] - 1s 47us/step - loss: 0.0360 - acc: 0.9916 - val_loss: 0.0758 - val_acc: 0.9784\n",
      "Epoch 48/60\n",
      "19419/19419 [==============================] - 1s 48us/step - loss: 0.0354 - acc: 0.9912 - val_loss: 0.0754 - val_acc: 0.9787\n",
      "Epoch 49/60\n",
      "19419/19419 [==============================] - 1s 47us/step - loss: 0.0348 - acc: 0.9920 - val_loss: 0.0753 - val_acc: 0.9787\n",
      "Epoch 50/60\n",
      "19419/19419 [==============================] - 1s 48us/step - loss: 0.0341 - acc: 0.9920 - val_loss: 0.0755 - val_acc: 0.9787\n",
      "Epoch 51/60\n",
      "19419/19419 [==============================] - 1s 47us/step - loss: 0.0333 - acc: 0.9923 - val_loss: 0.0764 - val_acc: 0.9784\n",
      "Epoch 52/60\n",
      "19419/19419 [==============================] - 1s 48us/step - loss: 0.0340 - acc: 0.9920 - val_loss: 0.0757 - val_acc: 0.9784\n",
      "Epoch 53/60\n",
      "19419/19419 [==============================] - 1s 46us/step - loss: 0.0320 - acc: 0.9920 - val_loss: 0.0761 - val_acc: 0.9784\n",
      "Epoch 54/60\n",
      "19419/19419 [==============================] - 1s 47us/step - loss: 0.0320 - acc: 0.9920 - val_loss: 0.0765 - val_acc: 0.9784\n",
      "Epoch 55/60\n",
      "19419/19419 [==============================] - 1s 48us/step - loss: 0.0319 - acc: 0.9920 - val_loss: 0.0766 - val_acc: 0.9784\n",
      "Epoch 56/60\n",
      "19419/19419 [==============================] - 1s 47us/step - loss: 0.0306 - acc: 0.9918 - val_loss: 0.0767 - val_acc: 0.9784\n",
      "Epoch 57/60\n",
      "19419/19419 [==============================] - 1s 46us/step - loss: 0.0313 - acc: 0.9922 - val_loss: 0.0770 - val_acc: 0.9784\n",
      "Epoch 58/60\n",
      "19419/19419 [==============================] - 1s 47us/step - loss: 0.0298 - acc: 0.9923 - val_loss: 0.0768 - val_acc: 0.9784\n",
      "Epoch 59/60\n",
      "19419/19419 [==============================] - 1s 51us/step - loss: 0.0302 - acc: 0.9920 - val_loss: 0.0778 - val_acc: 0.9784\n",
      "Epoch 60/60\n"
     ]
    },
    {
     "name": "stdout",
     "output_type": "stream",
     "text": [
      "19419/19419 [==============================] - 1s 48us/step - loss: 0.0296 - acc: 0.9930 - val_loss: 0.0773 - val_acc: 0.9784\n"
     ]
    },
    {
     "data": {
      "image/png": "[encoded data removed]",
      "text/plain": [
       "<Figure size 576x288 with 2 Axes>"
      ]
     },
     "metadata": {},
     "output_type": "display_data"
    }
   ],
   "source": [
    "from keras.callbacks import EarlyStopping\n",
    "\n",
    "callback= [EarlyStopping(monitor='val_loss', patience=20, verbose=0)]\n",
    "hist=model.fit(X_train, y_train, batch_size=128, nb_epoch=60, validation_data=(X_valid, y_valid),callbacks=callback)\n",
    "training_vis(hist)"
   ]
  },
  {
   "cell_type": "markdown",
   "metadata": {},
   "source": [
    "### 六、预测测试集"
   ]
  },
  {
   "cell_type": "markdown",
   "metadata": {},
   "source": [
    "#### 1、创建提交文件格式。"
   ]
  },
  {
   "cell_type": "code",
   "execution_count": 6,
   "metadata": {},
   "outputs": [],
   "source": [
    "import datetime\n",
    "def create_submission(predictions, test_id, info):\n",
    "    result1 = pd.DataFrame(predictions, columns=['c0', 'c1', 'c2', 'c3', 'c4', 'c5', 'c6', 'c7', 'c8', 'c9'])\n",
    "    result1.loc[:, 'img'] = pd.Series(test_id, index=result1.index)\n",
    "    now = datetime.datetime.now()\n",
    "    if not os.path.isdir('subm'):\n",
    "        os.mkdir('subm')\n",
    "    suffix = info + '_' + str(now.strftime(\"%Y-%m-%d-%H-%M\"))\n",
    "    sub_file = os.path.join('subm', 'submission_' + suffix + '.csv')\n",
    "    result1.to_csv(sub_file, index=False)"
   ]
  },
  {
   "cell_type": "markdown",
   "metadata": {},
   "source": [
    "#### 2、获取测试集ID"
   ]
  },
  {
   "cell_type": "code",
   "execution_count": 7,
   "metadata": {},
   "outputs": [],
   "source": [
    "import pandas as pd\n",
    "import numpy as np\n",
    "import glob\n",
    "def get_test_id():\n",
    "    X_test_id = []\n",
    "    print('get test ID')\n",
    "\n",
    "    path = os.path.join( 'input', 'test', 'test', '*.jpg')\n",
    "    files = sorted(glob.glob(path))\n",
    "    for fl in files:\n",
    "        flbase = os.path.basename(fl)\n",
    "        X_test_id.append(flbase)\n",
    "    print(len(X_test_id))\n",
    "    return X_test_id"
   ]
  },
  {
   "cell_type": "markdown",
   "metadata": {},
   "source": [
    "#### 3、预测测试集并保存预测结果。"
   ]
  },
  {
   "cell_type": "code",
   "execution_count": 83,
   "metadata": {},
   "outputs": [
    {
     "name": "stdout",
     "output_type": "stream",
     "text": [
      "79726/79726 [==============================] - 4s 51us/step\n"
     ]
    }
   ],
   "source": [
    "y_pred = model.predict(X_test, verbose=1)\n",
    "#y_pred = y_pred.clip(min=0.005, max=0.995)"
   ]
  },
  {
   "cell_type": "code",
   "execution_count": 84,
   "metadata": {},
   "outputs": [
    {
     "name": "stdout",
     "output_type": "stream",
     "text": [
      "get test ID\n",
      "79726\n",
      "submission done\n"
     ]
    }
   ],
   "source": [
    "test_id=get_test_id()\n",
    "info_string = 'loss_mix_model' \\\n",
    "                + '_ResNet50_120_a'\\\n",
    "                + '_InceptionV3'\\\n",
    "                + '_Xception_y1_g'\n",
    "create_submission(y_pred, test_id, info_string)\n",
    "print(\"submission done\")"
   ]
  },
  {
   "cell_type": "code",
   "execution_count": null,
   "metadata": {},
   "outputs": [],
   "source": []
  }
 ],
 "metadata": {
  "kernelspec": {
   "display_name": "Python 3",
   "language": "python",
   "name": "python3"
  },
  "language_info": {
   "codemirror_mode": {
    "name": "ipython",
    "version": 3
   },
   "file_extension": ".py",
   "mimetype": "text/x-python",
   "name": "python",
   "nbconvert_exporter": "python",
   "pygments_lexer": "ipython3",
   "version": "3.7.1"
  }
 },
 "nbformat": 4,
 "nbformat_minor": 2
}
