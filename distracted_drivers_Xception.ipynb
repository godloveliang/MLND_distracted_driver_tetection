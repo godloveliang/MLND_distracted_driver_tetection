{
 "cells": [
  {
   "cell_type": "markdown",
   "metadata": {},
   "source": [
    "# 机器学习进阶毕业项目—驾驶员状态检测—Xception—fine tune"
   ]
  },
  {
   "cell_type": "markdown",
   "metadata": {},
   "source": [
    "### 一、数据预处理"
   ]
  },
  {
   "cell_type": "markdown",
   "metadata": {},
   "source": [
    "#### 1、根据司机ID划分训练集和验证集，将P016,P035, P066两位司机，共2315个数据作为验证集，其余25位司机，共20109个数据作为训练集。将验证集从原始文件里移动到验证集相应的分类文件里。"
   ]
  },
  {
   "cell_type": "code",
   "execution_count": 1,
   "metadata": {},
   "outputs": [],
   "source": [
    "import os\n",
    "import pandas as pd\n",
    "import numpy as np\n",
    "import shutil\n",
    "\n",
    "valid_subjects = ['p016','p035','P066']\n",
    "\n",
    "if not os.path.exists(\"Xception/valid\"):\n",
    "    os.mkdir(\"Xception/valid\")\n",
    "    for i in range(10):\n",
    "        os.mkdir(\"Xception/valid/c%d\"%i)\n",
    "\n",
    "df = pd.read_csv(os.path.join('input', \"driver_imgs_list.csv\"))\n",
    "\n",
    "for valid_subject in valid_subjects:\n",
    "    df_valid = df[(df[\"subject\"]==valid_subject)]\n",
    "    for index, row in df_valid.iterrows():\n",
    "        subpath = row[\"classname\"] + \"/\" + row[\"img\"]\n",
    "        if os.path.exists(os.path.join('Xception',\"train\",subpath)):\n",
    "            shutil.move(os.path.join('Xception',\"train\",subpath), os.path.join('Xception',\"valid\",subpath),)\n",
    "        else:\n",
    "            print(\"cannot move {} : {}\".format(row[\"subject\"],subpath))"
   ]
  },
  {
   "cell_type": "markdown",
   "metadata": {},
   "source": [
    "### 二、加载数据集"
   ]
  },
  {
   "cell_type": "code",
   "execution_count": 37,
   "metadata": {},
   "outputs": [
    {
     "name": "stdout",
     "output_type": "stream",
     "text": [
      "Found 20498 images belonging to 10 classes.\n",
      "Found 1926 images belonging to 10 classes.\n"
     ]
    }
   ],
   "source": [
    "from keras.models import *\n",
    "from keras.layers import *\n",
    "from keras.applications import *\n",
    "from keras.preprocessing.image import *\n",
    "np.random.seed(2018)\n",
    "batch_size=64\n",
    "\n",
    "gen_train = ImageDataGenerator(\n",
    "    rotation_range=10,\n",
    "    width_shift_range=0.1,\n",
    "    height_shift_range=0.1,\n",
    "    shear_range=0.2,\n",
    "    zoom_range=0.2,\n",
    ")\n",
    "\n",
    "#gen_test = ImageDataGenerator()\n",
    "\n",
    "train_generator = gen_train.flow_from_directory(os.path.join('Xception','train'), target_size=(299,299), shuffle=True, batch_size=batch_size,class_mode=\"categorical\")\n",
    "valid_generator = gen_train.flow_from_directory(os.path.join('Xception','valid'), target_size=(299,299), shuffle=True, batch_size=batch_size,class_mode=\"categorical\")\n",
    "#test_generator = gen_test.flow_from_directory(os.path.join('input', 'test'), target_size=(299,299), shuffle=True, batch_size=batch_size, class_mode=None)"
   ]
  },
  {
   "cell_type": "markdown",
   "metadata": {},
   "source": [
    "### 三、构建模型"
   ]
  },
  {
   "cell_type": "code",
   "execution_count": 38,
   "metadata": {},
   "outputs": [],
   "source": [
    "from keras.models import *\n",
    "from keras.layers import *\n",
    "from keras.optimizers import *\n",
    "np.random.seed(2018)\n",
    "\n",
    "image_size=(299,299)\n",
    "input_tensor = Input((*image_size, 3))\n",
    "x = input_tensor\n",
    "x = Lambda(xception.preprocess_input)(x)\n",
    "\n",
    "base_model = Xception(input_tensor = x, weights='imagenet',include_top=False)\n",
    "\n",
    "x = base_model.output\n",
    "x = GlobalAveragePooling2D()(x) \n",
    "x = Dropout(0.5)(x)\n",
    "predictions = Dense(10,activation='softmax')(x)\n",
    "model = Model(inputs=base_model.input,outputs=predictions)"
   ]
  },
  {
   "cell_type": "code",
   "execution_count": 39,
   "metadata": {},
   "outputs": [],
   "source": [
    "def fine_tune_a(model,base_model):\n",
    "    fine_tune_layer_a = 81 \n",
    "    for layer in base_model.layers[:fine_tune_layer_a-1]:\n",
    "        layer.trainable = False\n",
    "    for layer in base_model.layers[fine_tune_layer_a:]:\n",
    "        layer.trainable = True\n",
    "    model.compile(optimizer='adam',loss='categorical_crossentropy',metrics=['accuracy'])"
   ]
  },
  {
   "cell_type": "code",
   "execution_count": 40,
   "metadata": {},
   "outputs": [],
   "source": [
    "def fine_tune_b(model,base_model):\n",
    "    fine_tune_layer_b = 81 \n",
    "    for layer in base_model.layers[:fine_tune_layer_b-11]:\n",
    "        layer.trainable = False\n",
    "    for layer in base_model.layers[fine_tune_layer_b:]:\n",
    "        layer.trainable = True\n",
    "    model.compile(optimizer=RMSprop(lr=2e-5),loss='categorical_crossentropy',metrics=['accuracy'])"
   ]
  },
  {
   "cell_type": "markdown",
   "metadata": {},
   "source": [
    "### 四、训练模型"
   ]
  },
  {
   "cell_type": "markdown",
   "metadata": {},
   "source": [
    "#### 1、训练结果可视化，查看模型训练过程中的acc+loss+val_acc+val_loss"
   ]
  },
  {
   "cell_type": "code",
   "execution_count": 24,
   "metadata": {},
   "outputs": [],
   "source": [
    "import matplotlib.pyplot as plt\n",
    "%matplotlib inline\n",
    "def training_vis(hist):\n",
    "    loss = hist.history['loss']\n",
    "    val_loss = hist.history['val_loss']\n",
    "    acc = hist.history['acc']\n",
    "    val_acc = hist.history['val_acc']\n",
    "\n",
    "    # make a figure\n",
    "    fig = plt.figure(figsize=(8,4))\n",
    "    # subplot loss\n",
    "    ax1 = fig.add_subplot(121)\n",
    "    ax1.plot(loss,label='train_loss')\n",
    "    ax1.plot(val_loss,label='val_loss')\n",
    "    ax1.set_xlabel('Epochs')\n",
    "    ax1.set_ylabel('Loss')\n",
    "    ax1.set_title('Loss on Training and Validation Data')\n",
    "    ax1.legend()\n",
    "    # subplot acc\n",
    "    ax2 = fig.add_subplot(122)\n",
    "    ax2.plot(acc,label='train_acc')\n",
    "    ax2.plot(val_acc,label='val_acc')\n",
    "    ax2.set_xlabel('Epochs')\n",
    "    ax2.set_ylabel('Accuracy')\n",
    "    ax2.set_title('Accuracy  on Training and Validation Data')\n",
    "    ax2.legend()\n",
    "    plt.tight_layout()"
   ]
  },
  {
   "cell_type": "markdown",
   "metadata": {},
   "source": [
    "#### 2、fine_tune_a，从106层进行fine_tune."
   ]
  },
  {
   "cell_type": "code",
   "execution_count": 41,
   "metadata": {},
   "outputs": [
    {
     "name": "stdout",
     "output_type": "stream",
     "text": [
      "Epoch 1/1\n",
      "321/321 [==============================] - 732s 2s/step - loss: 0.1737 - acc: 0.9457 - val_loss: 0.2982 - val_acc: 0.8951\n"
     ]
    },
    {
     "data": {
      "image/png": "[encoded data removed]",
      "text/plain": [
       "<Figure size 576x288 with 2 Axes>"
      ]
     },
     "metadata": {},
     "output_type": "display_data"
    }
   ],
   "source": [
    "fine_tune_a(model,base_model)\n",
    "hist2 = model.fit_generator(generator=train_generator,epochs=1,validation_data=valid_generator)\n",
    "training_vis(hist2)"
   ]
  },
  {
   "cell_type": "code",
   "execution_count": 42,
   "metadata": {},
   "outputs": [
    {
     "name": "stdout",
     "output_type": "stream",
     "text": [
      "model saved\n"
     ]
    }
   ],
   "source": [
    "model.save(\"weights/Xception-finetune_81.h5\")\n",
    "print(\"model saved\")"
   ]
  },
  {
   "cell_type": "markdown",
   "metadata": {},
   "source": [
    "#### 4、fine_tune_b，调小学习率，进一步进行fine_tune."
   ]
  },
  {
   "cell_type": "code",
   "execution_count": 43,
   "metadata": {},
   "outputs": [
    {
     "name": "stdout",
     "output_type": "stream",
     "text": [
      "Epoch 1/1\n",
      "321/321 [==============================] - 730s 2s/step - loss: 0.0217 - acc: 0.9943 - val_loss: 0.4330 - val_acc: 0.8551\n"
     ]
    },
    {
     "data": {
      "text/plain": [
       "<keras.callbacks.History at 0x7f1a7769fe80>"
      ]
     },
     "execution_count": 43,
     "metadata": {},
     "output_type": "execute_result"
    }
   ],
   "source": [
    "fine_tune_b(model,base_model)\n",
    "model.fit_generator(generator=train_generator,epochs=1,validation_data=valid_generator)"
   ]
  },
  {
   "cell_type": "code",
   "execution_count": 27,
   "metadata": {},
   "outputs": [
    {
     "name": "stdout",
     "output_type": "stream",
     "text": [
      "model saved\n"
     ]
    }
   ],
   "source": [
    "model.save(\"weights/Xception-finetune_76.h5\")\n",
    "print(\"model saved\")"
   ]
  },
  {
   "cell_type": "code",
   "execution_count": 36,
   "metadata": {},
   "outputs": [
    {
     "name": "stdout",
     "output_type": "stream",
     "text": [
      "Epoch 1/1\n",
      "321/321 [==============================] - 749s 2s/step - loss: 0.0115 - acc: 0.9969 - val_loss: 0.3629 - val_acc: 0.9029\n"
     ]
    },
    {
     "data": {
      "text/plain": [
       "<keras.callbacks.History at 0x7f1acef358d0>"
      ]
     },
     "execution_count": 36,
     "metadata": {},
     "output_type": "execute_result"
    }
   ],
   "source": [
    "model.compile(optimizer=Adagrad(lr=1e-5),loss='categorical_crossentropy',metrics=['accuracy'])\n",
    "model.fit_generator(generator=train_generator,epochs=1,validation_data=valid_generator)"
   ]
  },
  {
   "cell_type": "markdown",
   "metadata": {},
   "source": [
    "### 六、预测测试集"
   ]
  },
  {
   "cell_type": "markdown",
   "metadata": {},
   "source": [
    "#### 1、创建提交文件格式。"
   ]
  },
  {
   "cell_type": "code",
   "execution_count": 44,
   "metadata": {},
   "outputs": [],
   "source": [
    "import datetime\n",
    "def create_submission(predictions, test_id, info):\n",
    "    result1 = pd.DataFrame(predictions, columns=['c0', 'c1', 'c2', 'c3', 'c4', 'c5', 'c6', 'c7', 'c8', 'c9'])\n",
    "    result1.loc[:, 'img'] = pd.Series(test_id, index=result1.index)\n",
    "    now = datetime.datetime.now()\n",
    "    if not os.path.isdir('subm'):\n",
    "        os.mkdir('subm')\n",
    "    suffix = info + '_' + str(now.strftime(\"%Y-%m-%d-%H-%M\"))\n",
    "    sub_file = os.path.join('subm', 'submission_' + suffix + '.csv')\n",
    "    result1.to_csv(sub_file, index=False)"
   ]
  },
  {
   "cell_type": "markdown",
   "metadata": {},
   "source": [
    "#### 2、获取测试集ID"
   ]
  },
  {
   "cell_type": "code",
   "execution_count": 45,
   "metadata": {},
   "outputs": [],
   "source": [
    "import glob\n",
    "def get_test_id():\n",
    "    X_test_id = []\n",
    "    print('get test ID')\n",
    "\n",
    "    path = os.path.join( 'input', 'test', 'test','*.jpg')\n",
    "    files = sorted(glob.glob(path))\n",
    "    for fl in files:\n",
    "        flbase = os.path.basename(fl)\n",
    "        X_test_id.append(flbase)\n",
    "\n",
    "    return X_test_id"
   ]
  },
  {
   "cell_type": "markdown",
   "metadata": {},
   "source": [
    "#### 3、预测测试集并保存预测结果。"
   ]
  },
  {
   "cell_type": "code",
   "execution_count": 51,
   "metadata": {},
   "outputs": [],
   "source": [
    "from keras.models import load_model\n",
    "import pandas as pd\n",
    "import numpy as np\n",
    "model.load_weights('weights/Xception-finetune_81.h5')"
   ]
  },
  {
   "cell_type": "code",
   "execution_count": 52,
   "metadata": {},
   "outputs": [
    {
     "name": "stdout",
     "output_type": "stream",
     "text": [
      "Found 79726 images belonging to 1 classes.\n",
      "4983/4983 [==============================] - 1966s 395ms/step\n"
     ]
    }
   ],
   "source": [
    "gen_test = ImageDataGenerator()\n",
    "test_generator = gen_test.flow_from_directory(os.path.join('input', 'test'), target_size=(299,299), shuffle=False, batch_size=16, class_mode=None)\n",
    "\n",
    "y_pred = model.predict_generator(test_generator,verbose=1)\n",
    "#y_pred = y_pred.clip(min=0.005, max=0.995)\n"
   ]
  },
  {
   "cell_type": "code",
   "execution_count": 53,
   "metadata": {},
   "outputs": [
    {
     "name": "stdout",
     "output_type": "stream",
     "text": [
      "get test ID\n",
      "submission done\n"
     ]
    }
   ],
   "source": [
    "test_id=get_test_id()\n",
    "info_string = 'loss'+ '_Xception'\n",
    "        \n",
    "create_submission(y_pred, test_id, info_string)\n",
    "print(\"submission done\")"
   ]
  },
  {
   "cell_type": "code",
   "execution_count": null,
   "metadata": {},
   "outputs": [],
   "source": []
  }
 ],
 "metadata": {
  "kernelspec": {
   "display_name": "Environment (conda_tensorflow_p36)",
   "language": "python",
   "name": "conda_tensorflow_p36"
  },
  "language_info": {
   "codemirror_mode": {
    "name": "ipython",
    "version": 3
   },
   "file_extension": ".py",
   "mimetype": "text/x-python",
   "name": "python",
   "nbconvert_exporter": "python",
   "pygments_lexer": "ipython3",
   "version": "3.6.4"
  }
 },
 "nbformat": 4,
 "nbformat_minor": 2
}
